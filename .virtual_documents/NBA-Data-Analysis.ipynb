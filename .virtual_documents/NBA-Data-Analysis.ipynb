


pip install --upgrade pip



pip install --upgrade numpy


import numpy as np
import pandas as pd
import matplotlib.pyplot as plt
import seaborn as sns
plt.style.use('ggplot')
#pd.set_option('max_columns', 200)





lead_scoring_df = pd.read_csv("NBA-Scoring-Leaders.csv")
lead_scoring_df = lead_scoring_df.drop('#', axis=1)


lead_scoring_df.shape


lead_scoring_df.columns


lead_scoring_df.head(20)


lead_scoring_df.dtypes


lead_scoring_df.describe()


#Drop columns that I do not want. In this case, I am dropping blocks, steals, and defensive rebounds since those are defensive stats and I 
#mainly want to look at offensive stats.

lead_scoring_df = lead_scoring_df[['Player', 'TEAM', 'GP', 'MIN', 'PTS', 'FGM', 'FGA', 'FG%', '3PM', '3PA',
       '3P%', 'FTM', 'FTA', 'FT%', 'OREB', 'REB', 'AST',
       'TOV', 'EFF',
        #'DREB', 'STL', 'BLK'
        ]]


#if we wanted to rename columns, we would do the following

#lead_scoring_df.rename(columns={'Player'='new name', 'TEAM'='new name', ...}, inplace=True)


#Looking at the data frame now that I have dropped some columns
lead_scoring_df.head(20)


#the columns has changed to 19
lead_scoring_df.shape


lead_scoring_df.isna().sum()


lead_scoring_df.loc[lead_scoring_df.duplicated()]


lead_scoring_df.loc[lead_scoring_df.duplicated(subset=['PTS'])]


#An example showing that 26.0 is in fact not a unique average, but multiple players average that many points per game
lead_scoring_df.query('PTS == 26.0')


lead_scoring_df['GP'].value_counts()


#We can see that Sacramento has the most top 40 scorers of any team, with 3
lead_scoring_df[:40]['TEAM'].value_counts()


ax = lead_scoring_df[:40]['TEAM'].value_counts().plot(kind='bar', title='Teams with Most Top 40 Scorers')
ax.set_xlabel('Team')
ax.set_ylabel('Number of Top 40 Scorers')


pts_ax = lead_scoring_df['PTS'].plot(kind='hist', bins=20, title='Points Per Game Distribution')
pts_ax.set_xlabel('Points Per Game')


#you have to shoot in order to score!
fga_vs_pts_ax = lead_scoring_df.plot(kind='scatter', x='FGA', y='PTS', title="Field Goals Attempted Per Game vs Points Per Game")
fga_vs_pts_ax.set_xlabel("Field Goals Attempted")
fga_vs_pts_ax.set_ylabel("Points Per Game")


#we can see that while scoring is almost directly correlated with shots attempted, it is not
#extremely correlated with field goal percentage
percent_vs_pts_ax = lead_scoring_df.plot(kind='scatter', x='FG%', y='PTS', title="Field Goal % vs Points Per Game")


#we can see correlations between different variables. Here I've selected a subset to look at correlation between
#we can see that PTS is highly correlated with field goals attempted, but has low correlation with field goal %
df_corr = lead_scoring_df[['PTS', 'FGM', 'FGA', 'FG%', 'EFF', 'OREB']
].dropna().corr(numeric_only=True)
df_corr


#using seaborn to plot
sns.scatterplot(x='FGA', y='PTS', data=lead_scoring_df)


#Compare multiple features against each other in Seaborn
#Pairplot has error: module 'numpy' has no attribute 'object'.
#`np.object` was a deprecated alias for the builtin `object`. To avoid this error in existing code, use `object` by itself.
#Doing this will not modify any behavior and is safe. 

#sns.pairplot(lead_scoring_df, vars=['PTS', 'FGM', 'FGA', 'FG%', 'EFF'])
#plt.show()


#Seaborn heatmap
#Seaborn heatmap has error: AttributeError: module 'numpy' has no attribute 'bool'.
#`np.bool` was a deprecated alias for the builtin `bool`. To avoid this error in existing code, use `bool` by itself.

#sns.heatmap(df_corr)


#Which team attempts the most 3 pointers? At least, counting the players that are in the dataset
#As we can see, New Orleans takes a shockingly low amount of 3s per game, while Golden State takes 50+ per game!

lead_scoring_df.groupby('TEAM')['3PA']\
    .agg(['sum']).sort_values('sum')['sum']\
    .plot(kind='bar', figsize=(12, 5), title='3 Point Attempts Per Game By Team')
